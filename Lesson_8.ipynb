{
  "nbformat": 4,
  "nbformat_minor": 0,
  "metadata": {
    "colab": {
      "name": "Lesson_8.ipynb",
      "provenance": [],
      "collapsed_sections": []
    },
    "kernelspec": {
      "name": "python3",
      "display_name": "Python 3"
    }
  },
  "cells": [
    {
      "cell_type": "markdown",
      "metadata": {
        "id": "cSaqxbFafowD"
      },
      "source": [
        "###Задание 1"
      ]
    },
    {
      "cell_type": "markdown",
      "metadata": {
        "id": "E9lif6lofgaU"
      },
      "source": [
        "Импортируйте библиотеки pandas, numpy и matplotlib.\r\n",
        "Загрузите \"Boston House Prices dataset\" из встроенных наборов \r\n",
        "данных библиотеки sklearn.\r\n",
        "Создайте датафреймы X и y из этих данных.\r\n",
        "Разбейте эти датафреймы на тренировочные (X_train, y_train) и тестовые (X_test, y_test)\r\n",
        "с помощью функции train_test_split так, чтобы размер тестовой выборки\r\n",
        "составлял 20% от всех данных, при этом аргумент random_state должен быть равен 42.\r\n",
        "\r\n"
      ]
    },
    {
      "cell_type": "code",
      "metadata": {
        "id": "INIYdForECV-"
      },
      "source": [
        "import numpy as np\r\n",
        "import pandas as pd\r\n",
        "\r\n",
        "from sklearn.datasets import load_boston"
      ],
      "execution_count": null,
      "outputs": []
    },
    {
      "cell_type": "code",
      "metadata": {
        "id": "IvyxqpyCEKHo"
      },
      "source": [
        "boston = load_boston()"
      ],
      "execution_count": null,
      "outputs": []
    },
    {
      "cell_type": "code",
      "metadata": {
        "id": "B_Ktmf0BERKy"
      },
      "source": [
        "from sklearn.preprocessing import StandardScaler"
      ],
      "execution_count": null,
      "outputs": []
    },
    {
      "cell_type": "code",
      "metadata": {
        "id": "nxA93fVeF7Zi"
      },
      "source": [
        "SS = StandardScaler()"
      ],
      "execution_count": null,
      "outputs": []
    },
    {
      "cell_type": "code",
      "metadata": {
        "id": "ZJLRjsrFF9lD"
      },
      "source": [
        "import matplotlib.pyplot as plt"
      ],
      "execution_count": null,
      "outputs": []
    },
    {
      "cell_type": "code",
      "metadata": {
        "id": "2mg_vD3deLKQ"
      },
      "source": [
        "y = pd.DataFrame(boston['target'], columns=['price'])"
      ],
      "execution_count": null,
      "outputs": []
    },
    {
      "cell_type": "code",
      "metadata": {
        "id": "2SrmKa3IevhS"
      },
      "source": [
        "x = pd.DataFrame(boston['data'], columns=boston['feature_names'])"
      ],
      "execution_count": null,
      "outputs": []
    },
    {
      "cell_type": "code",
      "metadata": {
        "id": "xtqZoeA6fQir"
      },
      "source": [
        "from sklearn.model_selection import train_test_split\r\n",
        "\r\n",
        "x_train, x_test, y_train, y_test = train_test_split(x, y, test_size=0.2, random_state=42)"
      ],
      "execution_count": null,
      "outputs": []
    },
    {
      "cell_type": "markdown",
      "metadata": {
        "id": "EH9Xj9Y1fz1R"
      },
      "source": [
        "Масштабируйте данные с помощью StandardScaler.\r\n",
        "Постройте модель TSNE на тренировочный данных с параметрами:\r\n",
        "n_components=2, learning_rate=250, random_state=42.\r\n",
        "Постройте диаграмму рассеяния на этих данных."
      ]
    },
    {
      "cell_type": "code",
      "metadata": {
        "id": "WJWHKf7ChKsy"
      },
      "source": [
        "x_train_scaled = pd.DataFrame(SS.fit_transform(x_train), columns=x_train.columns)\r\n",
        "x_test_scaled = pd.DataFrame(SS.transform(x_test), columns=x_test.columns)"
      ],
      "execution_count": null,
      "outputs": []
    },
    {
      "cell_type": "code",
      "metadata": {
        "id": "BAFNj1NAjXhG"
      },
      "source": [
        "from sklearn.manifold import TSNE"
      ],
      "execution_count": null,
      "outputs": []
    },
    {
      "cell_type": "code",
      "metadata": {
        "id": "RvQAyZZ6jg4r"
      },
      "source": [
        "tsne = TSNE(n_components=2, learning_rate=250, random_state=42)"
      ],
      "execution_count": null,
      "outputs": []
    },
    {
      "cell_type": "code",
      "metadata": {
        "id": "2GmEfLJrjoGA"
      },
      "source": [
        "x_train_tsne = tsne.fit_transform(x_train_scaled)"
      ],
      "execution_count": null,
      "outputs": []
    },
    {
      "cell_type": "code",
      "metadata": {
        "colab": {
          "base_uri": "https://localhost:8080/",
          "height": 265
        },
        "id": "z6ImA01Wj6Tj",
        "outputId": "7a05d172-2ae7-4530-89e4-b17572dc914c"
      },
      "source": [
        "plt.scatter(x_train_tsne[:,0], x_train_tsne[:,1], c=['grey'])\r\n",
        "plt.show()"
      ],
      "execution_count": null,
      "outputs": [
        {
          "output_type": "display_data",
          "data": {
            "image/png": "[encoded data removed]",
            "text/plain": [
              "<Figure size 432x288 with 1 Axes>"
            ]
          },
          "metadata": {
            "tags": [],
            "needs_background": "light"
          }
        }
      ]
    },
    {
      "cell_type": "markdown",
      "metadata": {
        "id": "wVkMAouqvcFF"
      },
      "source": [
        "##Задание 2"
      ]
    },
    {
      "cell_type": "markdown",
      "metadata": {
        "id": "A9jQ64ugve3l"
      },
      "source": [
        "С помощью KMeans разбейте данные из тренировочного набора на 3 кластера,\r\n",
        "используйте все признаки из датафрейма X_train.\r\n",
        "Параметр max_iter должен быть равен 100, random staterandom_state сделайте равным 42.\r\n",
        "Постройте еще раз диаграмму рассеяния на данных, полученных с помощью TSNE,\r\n",
        "и раскрасьте точки из разных кластеров разными цветами.\r\n",
        "Вычислите средние значения price и CRIM в разных кластерах.\r\n"
      ]
    },
    {
      "cell_type": "code",
      "metadata": {
        "id": "Yeh3DdfUkP52"
      },
      "source": [
        "from sklearn.cluster import KMeans"
      ],
      "execution_count": null,
      "outputs": []
    },
    {
      "cell_type": "code",
      "metadata": {
        "id": "qqtH6ccXwdTQ"
      },
      "source": [
        "model = KMeans(n_clusters=3, max_iter=100, random_state=42)"
      ],
      "execution_count": null,
      "outputs": []
    },
    {
      "cell_type": "code",
      "metadata": {
        "id": "zkaW9jWLxJcE"
      },
      "source": [
        "train_lables = model.fit_predict(x_train_tsne)"
      ],
      "execution_count": null,
      "outputs": []
    },
    {
      "cell_type": "code",
      "metadata": {
        "colab": {
          "base_uri": "https://localhost:8080/",
          "height": 282
        },
        "id": "DA-Y6LEDyCHE",
        "outputId": "4f2beff9-ddff-4dc0-f4bb-c3fb8e05eef4"
      },
      "source": [
        "plt.scatter(x_train_tsne[:,0], x_train_tsne[:,1], c=train_lables)"
      ],
      "execution_count": null,
      "outputs": [
        {
          "output_type": "execute_result",
          "data": {
            "text/plain": [
              "<matplotlib.collections.PathCollection at 0x7fe497cb7898>"
            ]
          },
          "metadata": {
            "tags": []
          },
          "execution_count": 28
        },
        {
          "output_type": "display_data",
          "data": {
            "image/png": "[encoded data removed]",
            "text/plain": [
              "<Figure size 432x288 with 1 Axes>"
            ]
          },
          "metadata": {
            "tags": [],
            "needs_background": "light"
          }
        }
      ]
    },
    {
      "cell_type": "code",
      "metadata": {
        "colab": {
          "base_uri": "https://localhost:8080/"
        },
        "id": "2Mb9zkuAydgK",
        "outputId": "13b2cd7c-1c6e-4d17-ba38-10cfe52b32bc"
      },
      "source": [
        "print(y_train[train_lables == 0].mean())\r\n",
        "print(y_train[train_lables == 1].mean())\r\n",
        "print(y_train[train_lables == 2].mean())"
      ],
      "execution_count": null,
      "outputs": [
        {
          "output_type": "stream",
          "text": [
            "price    23.670659\n",
            "dtype: float64\n",
            "price    26.564706\n",
            "dtype: float64\n",
            "price    16.277228\n",
            "dtype: float64\n"
          ],
          "name": "stdout"
        }
      ]
    },
    {
      "cell_type": "code",
      "metadata": {
        "colab": {
          "base_uri": "https://localhost:8080/"
        },
        "id": "wta1gOUn3DIa",
        "outputId": "2ee35397-ab45-4ed8-806b-a21876055f99"
      },
      "source": [
        "print(x_train.loc[train_lables == 0, 'CRIM'].mean())\r\n",
        "print(x_train.loc[train_lables == 1, 'CRIM'].mean())\r\n",
        "print(x_train.loc[train_lables == 2, 'CRIM'].mean())"
      ],
      "execution_count": null,
      "outputs": [
        {
          "output_type": "stream",
          "text": [
            "0.6829679640718564\n",
            "0.09462279411764711\n",
            "13.17982178217822\n"
          ],
          "name": "stdout"
        }
      ]
    },
    {
      "cell_type": "markdown",
      "metadata": {
        "id": "IaxbSk694P-p"
      },
      "source": [
        "##Задание 3"
      ]
    },
    {
      "cell_type": "markdown",
      "metadata": {
        "id": "sT-8KHIR4TBz"
      },
      "source": [
        "Примените модель KMeans, построенную в предыдущем задании,\r\n",
        "к данным из тестового набора.\r\n",
        "Вычислите средние значения price и CRIM в разных кластерах на тестовых данных.\r\n"
      ]
    },
    {
      "cell_type": "code",
      "metadata": {
        "id": "s6n-_IKf4SI3"
      },
      "source": [
        "tsne = TSNE(n_components=2, learning_rate=250, random_state=42)"
      ],
      "execution_count": null,
      "outputs": []
    },
    {
      "cell_type": "code",
      "metadata": {
        "id": "hqn7GQj25AYS"
      },
      "source": [
        "x_test_tsne = tsne.fit_transform(x_test_scaled)"
      ],
      "execution_count": null,
      "outputs": []
    },
    {
      "cell_type": "code",
      "metadata": {
        "colab": {
          "base_uri": "https://localhost:8080/",
          "height": 282
        },
        "id": "_hsPk3Ln5SOf",
        "outputId": "ac23c913-fa08-476a-b572-232def1bcfd9"
      },
      "source": [
        "plt.scatter(x_test_tsne[:,0],x_test_tsne[:,1])"
      ],
      "execution_count": null,
      "outputs": [
        {
          "output_type": "execute_result",
          "data": {
            "text/plain": [
              "<matplotlib.collections.PathCollection at 0x7fe48f3a28d0>"
            ]
          },
          "metadata": {
            "tags": []
          },
          "execution_count": 74
        },
        {
          "output_type": "display_data",
          "data": {
            "image/png": "[encoded data removed]",
            "text/plain": [
              "<Figure size 432x288 with 1 Axes>"
            ]
          },
          "metadata": {
            "tags": [],
            "needs_background": "light"
          }
        }
      ]
    },
    {
      "cell_type": "code",
      "metadata": {
        "id": "NfRKwCSW5cSa"
      },
      "source": [
        "test_labels = model.predict(x_test_tsne)"
      ],
      "execution_count": null,
      "outputs": []
    },
    {
      "cell_type": "code",
      "metadata": {
        "colab": {
          "base_uri": "https://localhost:8080/",
          "height": 282
        },
        "id": "6G4cM_GU5wlK",
        "outputId": "2d4614fd-77c0-4089-ab41-fe46c4558055"
      },
      "source": [
        "plt.scatter(x_test_tsne[:,0], x_test_tsne[:,1], c=test_labels)"
      ],
      "execution_count": null,
      "outputs": [
        {
          "output_type": "execute_result",
          "data": {
            "text/plain": [
              "<matplotlib.collections.PathCollection at 0x7fe48f2dbe80>"
            ]
          },
          "metadata": {
            "tags": []
          },
          "execution_count": 79
        },
        {
          "output_type": "display_data",
          "data": {
            "image/png": "[encoded data removed]",
            "text/plain": [
              "<Figure size 432x288 with 1 Axes>"
            ]
          },
          "metadata": {
            "tags": [],
            "needs_background": "light"
          }
        }
      ]
    },
    {
      "cell_type": "code",
      "metadata": {
        "colab": {
          "base_uri": "https://localhost:8080/"
        },
        "id": "jKO_bogi58By",
        "outputId": "28bb7090-b57f-4de3-a5e4-72462886f64a"
      },
      "source": [
        "print(y_test[test_labels == 0].mean())\r\n",
        "print(y_test[test_labels == 1].mean())\r\n",
        "print(y_test[test_labels == 2].mean())"
      ],
      "execution_count": null,
      "outputs": [
        {
          "output_type": "stream",
          "text": [
            "price    16.421212\n",
            "dtype: float64\n",
            "price    26.910526\n",
            "dtype: float64\n",
            "price    20.235484\n",
            "dtype: float64\n"
          ],
          "name": "stdout"
        }
      ]
    },
    {
      "cell_type": "code",
      "metadata": {
        "colab": {
          "base_uri": "https://localhost:8080/"
        },
        "id": "JxOoar9Z6y77",
        "outputId": "ff0bbeef-2270-4cae-c17d-b00ca0138263"
      },
      "source": [
        "print(x_test.loc[test_labels == 0, 'CRIM'].mean())\r\n",
        "print(x_test.loc[test_labels == 1, 'CRIM'].mean())\r\n",
        "print(x_test.loc[test_labels == 2, 'CRIM'].mean())"
      ],
      "execution_count": null,
      "outputs": [
        {
          "output_type": "stream",
          "text": [
            "10.707682121212121\n",
            "0.10555710526315791\n",
            "0.41909322580645153\n"
          ],
          "name": "stdout"
        }
      ]
    },
    {
      "cell_type": "code",
      "metadata": {
        "id": "5ApSkS8S7aDQ"
      },
      "source": [
        ""
      ],
      "execution_count": null,
      "outputs": []
    }
  ]
}